{
 "cells": [
  {
   "cell_type": "markdown",
   "metadata": {},
   "source": [
    "# Class 3 HW Part 1: numpy and scipy\n",
    "Begin by importing the libraries that you'll need for today: numpy, matplotlib, pandas, and seaborn."
   ]
  },
  {
   "cell_type": "code",
   "execution_count": 10,
   "metadata": {},
   "outputs": [],
   "source": [
    "import numpy as np\n",
    "import matplotlib as plt\n",
    "import pandas as pd\n",
    "import seaborn as sns"
   ]
  },
  {
   "cell_type": "markdown",
   "metadata": {},
   "source": [
    "## <font color = blue>Problem 1: a few basic problems on creating numpy arrays </font>\n",
    "#### 1a.) Create a 10x5 numpy array \"x\" filled with ones, and print the data type of the first value of the first element."
   ]
  },
  {
   "cell_type": "code",
   "execution_count": 3,
   "metadata": {},
   "outputs": [
    {
     "data": {
      "text/plain": [
       "array([[1., 1., 1., 1., 1.],\n",
       "       [1., 1., 1., 1., 1.],\n",
       "       [1., 1., 1., 1., 1.],\n",
       "       [1., 1., 1., 1., 1.],\n",
       "       [1., 1., 1., 1., 1.],\n",
       "       [1., 1., 1., 1., 1.],\n",
       "       [1., 1., 1., 1., 1.],\n",
       "       [1., 1., 1., 1., 1.],\n",
       "       [1., 1., 1., 1., 1.],\n",
       "       [1., 1., 1., 1., 1.]])"
      ]
     },
     "execution_count": 3,
     "metadata": {},
     "output_type": "execute_result"
    }
   ],
   "source": [
    "#hint: is there a numpy function that makes this easier?\n",
    "x = np.ones((10,5))\n",
    "x"
   ]
  },
  {
   "cell_type": "markdown",
   "metadata": {},
   "source": [
    "#### 1b.) Find two separate ways to create the same matrix \"x\", containing ints instead of floats"
   ]
  },
  {
   "cell_type": "code",
   "execution_count": 5,
   "metadata": {},
   "outputs": [
    {
     "data": {
      "text/plain": [
       "array([[1, 1, 1, 1, 1],\n",
       "       [1, 1, 1, 1, 1],\n",
       "       [1, 1, 1, 1, 1],\n",
       "       [1, 1, 1, 1, 1],\n",
       "       [1, 1, 1, 1, 1],\n",
       "       [1, 1, 1, 1, 1],\n",
       "       [1, 1, 1, 1, 1],\n",
       "       [1, 1, 1, 1, 1],\n",
       "       [1, 1, 1, 1, 1],\n",
       "       [1, 1, 1, 1, 1]])"
      ]
     },
     "execution_count": 5,
     "metadata": {},
     "output_type": "execute_result"
    }
   ],
   "source": [
    "#hint: there are more than two ways! Just pick the two that are easiest for you.\n",
    "x = np.ones((10,5),dtype=int)\n",
    "x"
   ]
  },
  {
   "cell_type": "markdown",
   "metadata": {},
   "source": [
    "#### 1c.) Reassign x to a 1D array of 50 evenly spaced elements between 2 and 20, inclusive."
   ]
  },
  {
   "cell_type": "code",
   "execution_count": 8,
   "metadata": {},
   "outputs": [
    {
     "data": {
      "text/plain": [
       "array([ 2.        ,  2.36734694,  2.73469388,  3.10204082,  3.46938776,\n",
       "        3.83673469,  4.20408163,  4.57142857,  4.93877551,  5.30612245,\n",
       "        5.67346939,  6.04081633,  6.40816327,  6.7755102 ,  7.14285714,\n",
       "        7.51020408,  7.87755102,  8.24489796,  8.6122449 ,  8.97959184,\n",
       "        9.34693878,  9.71428571, 10.08163265, 10.44897959, 10.81632653,\n",
       "       11.18367347, 11.55102041, 11.91836735, 12.28571429, 12.65306122,\n",
       "       13.02040816, 13.3877551 , 13.75510204, 14.12244898, 14.48979592,\n",
       "       14.85714286, 15.2244898 , 15.59183673, 15.95918367, 16.32653061,\n",
       "       16.69387755, 17.06122449, 17.42857143, 17.79591837, 18.16326531,\n",
       "       18.53061224, 18.89795918, 19.26530612, 19.63265306, 20.        ])"
      ]
     },
     "execution_count": 8,
     "metadata": {},
     "output_type": "execute_result"
    }
   ],
   "source": [
    "x = np.linspace(2,20,50)\n",
    "x"
   ]
  },
  {
   "cell_type": "code",
   "execution_count": 11,
   "metadata": {},
   "outputs": [
    {
     "data": {
      "text/plain": [
       "array([1.00000000e+02, 2.32995181e+02, 5.42867544e+02, 1.26485522e+03,\n",
       "       2.94705170e+03, 6.86648845e+03, 1.59985872e+04, 3.72759372e+04,\n",
       "       8.68511374e+04, 2.02358965e+05, 4.71486636e+05, 1.09854114e+06,\n",
       "       2.55954792e+06, 5.96362332e+06, 1.38949549e+07, 3.23745754e+07,\n",
       "       7.54312006e+07, 1.75751062e+08, 4.09491506e+08, 9.54095476e+08,\n",
       "       2.22299648e+09, 5.17947468e+09, 1.20679264e+10, 2.81176870e+10,\n",
       "       6.55128557e+10, 1.52641797e+11, 3.55648031e+11, 8.28642773e+11,\n",
       "       1.93069773e+12, 4.49843267e+12, 1.04811313e+13, 2.44205309e+13,\n",
       "       5.68986603e+13, 1.32571137e+14, 3.08884360e+14, 7.19685673e+14,\n",
       "       1.67683294e+15, 3.90693994e+15, 9.10298178e+15, 2.12095089e+16,\n",
       "       4.94171336e+16, 1.15139540e+17, 2.68269580e+17, 6.25055193e+17,\n",
       "       1.45634848e+18, 3.39322177e+18, 7.90604321e+18, 1.84206997e+19,\n",
       "       4.29193426e+19, 1.00000000e+20])"
      ]
     },
     "execution_count": 11,
     "metadata": {},
     "output_type": "execute_result"
    }
   ],
   "source": [
    "# 1d.) Reassign x to a 1D array of 50 evenly spaced elements on a log scale between 2 and 20, exclusive.\n",
    "x = np.logspace(2,20,50)\n",
    "x"
   ]
  },
  {
   "cell_type": "markdown",
   "metadata": {},
   "source": [
    "## <font color = blue> Problem 2: using numpy and matplotlib to create and view some fake data: a noisy sin wave </font>\n",
    "#### 2a.) Using np.linspace, create a 1D array \"t\" containing 1000 evenly spaced elements between 0 and 1, exclusive. Print the first 50 elements to check that your 1D array has values incrementing by 0.001."
   ]
  },
  {
   "cell_type": "code",
   "execution_count": 45,
   "metadata": {},
   "outputs": [
    {
     "name": "stdout",
     "output_type": "stream",
     "text": [
      "[0.    0.001 0.002 0.003 0.004 0.005 0.006 0.007 0.008 0.009 0.01  0.011\n",
      " 0.012 0.013 0.014 0.015 0.016 0.017 0.018 0.019 0.02  0.021 0.022 0.023\n",
      " 0.024 0.025 0.026 0.027 0.028 0.029 0.03  0.031 0.032 0.033 0.034 0.035\n",
      " 0.036 0.037 0.038 0.039 0.04  0.041 0.042 0.043 0.044 0.045 0.046 0.047\n",
      " 0.048 0.049]\n"
     ]
    }
   ],
   "source": [
    "t = np.linspace(0,1,1000,endpoint=False)\n",
    "print(t[:50])"
   ]
  },
  {
   "cell_type": "markdown",
   "metadata": {},
   "source": [
    "#### 2b.) Using numpy's sin function, create a sin wave equal to $sin = sin(2\\pi * (4*t))$, and a 1D array \"noise\", the same shape as your sin array,  filled with random float values between -1 and 1. Set a third array \"noisy_sin\" = <code>sin + noise</code>.  "
   ]
  },
  {
   "cell_type": "code",
   "execution_count": 46,
   "metadata": {},
   "outputs": [
    {
     "name": "stdout",
     "output_type": "stream",
     "text": [
      "[65 76 11 30  2 43 59 24 57 91 80 35 30 66 45 75 23  0 87 92 17  5 35  4\n",
      " 67 57 25 93 71 82 72 34 62 95 35 56 39 14 35 16 50 87  1 89 81 54 50 94\n",
      " 89 40]\n"
     ]
    },
    {
     "ename": "AttributeError",
     "evalue": "'NoneType' object has no attribute 'append'",
     "output_type": "error",
     "traceback": [
      "\u001b[0;31m---------------------------------------------------------------------------\u001b[0m",
      "\u001b[0;31mAttributeError\u001b[0m                            Traceback (most recent call last)",
      "\u001b[0;32m<ipython-input-46-9314bd7649a6>\u001b[0m in \u001b[0;36m<module>\u001b[0;34m\u001b[0m\n\u001b[1;32m     13\u001b[0m \u001b[0mnoise2\u001b[0m\u001b[0;34m=\u001b[0m\u001b[0;34m[\u001b[0m\u001b[0;34m]\u001b[0m\u001b[0;34m\u001b[0m\u001b[0;34m\u001b[0m\u001b[0m\n\u001b[1;32m     14\u001b[0m \u001b[0;32mfor\u001b[0m \u001b[0mi\u001b[0m \u001b[0;32min\u001b[0m \u001b[0mnoise1\u001b[0m\u001b[0;34m:\u001b[0m\u001b[0;34m\u001b[0m\u001b[0;34m\u001b[0m\u001b[0m\n\u001b[0;32m---> 15\u001b[0;31m     \u001b[0mnoise2\u001b[0m \u001b[0;34m=\u001b[0m \u001b[0mnoise2\u001b[0m\u001b[0;34m.\u001b[0m\u001b[0mappend\u001b[0m\u001b[0;34m(\u001b[0m\u001b[0;34m(\u001b[0m\u001b[0;36m2\u001b[0m\u001b[0;34m*\u001b[0m\u001b[0;34m(\u001b[0m\u001b[0mi\u001b[0m\u001b[0;34m-\u001b[0m\u001b[0mminnoise\u001b[0m\u001b[0;34m)\u001b[0m\u001b[0;34m/\u001b[0m\u001b[0;34m(\u001b[0m\u001b[0mmaxnoise\u001b[0m\u001b[0;34m-\u001b[0m\u001b[0mminnoise\u001b[0m\u001b[0;34m)\u001b[0m\u001b[0;34m)\u001b[0m\u001b[0;34m-\u001b[0m\u001b[0;36m1\u001b[0m\u001b[0;34m)\u001b[0m\u001b[0;34m\u001b[0m\u001b[0;34m\u001b[0m\u001b[0m\n\u001b[0m\u001b[1;32m     16\u001b[0m \u001b[0;34m\u001b[0m\u001b[0m\n\u001b[1;32m     17\u001b[0m \u001b[0mprint\u001b[0m\u001b[0;34m(\u001b[0m\u001b[0mnoise2\u001b[0m\u001b[0;34m[\u001b[0m\u001b[0;34m:\u001b[0m\u001b[0;36m50\u001b[0m\u001b[0;34m]\u001b[0m\u001b[0;34m)\u001b[0m\u001b[0;34m\u001b[0m\u001b[0;34m\u001b[0m\u001b[0m\n",
      "\u001b[0;31mAttributeError\u001b[0m: 'NoneType' object has no attribute 'append'"
     ]
    }
   ],
   "source": [
    "#hint: use np.pi for your sin wave\n",
    "#hint: randint, which lets you input a range, will only output integers\n",
    "#you can normalize to [-1,1] via 2*(x-x.min()/x.max()-x.min())-1\n",
    "\n",
    "w = 4\n",
    "orig_sin = np.sin(2*np.pi*w*np.array(t))\n",
    "\n",
    "noise1 = np.random.randint(100,size=1000)\n",
    "maxnoise = noise1.max()\n",
    "minnoise = noise1.min()\n",
    "print(noise1[:50])\n",
    "\n",
    "noise2=[]\n",
    "for i in noise1:\n",
    "    noise2 = noise2.append((2*(i-minnoise)/(maxnoise-minnoise))-1)\n",
    "\n",
    "print(noise2[:50])\n",
    "#noisy_sin = np.array(orig_sin) + np.array(noise)\n",
    "#noisy_sin\n",
    "# ugh I give up sorry!"
   ]
  },
  {
   "cell_type": "markdown",
   "metadata": {},
   "source": [
    " #### 2d.) In two plots (use subplots), plot <code>(t, sin)</code> in red and <code>(t, noisysin)</code> in blue. Title plots appropriately, including the frequency of the wave that you've generated!"
   ]
  },
  {
   "cell_type": "code",
   "execution_count": null,
   "metadata": {},
   "outputs": [],
   "source": []
  },
  {
   "cell_type": "markdown",
   "metadata": {},
   "source": [
    "## <font color = blue> Problem 3: Using SciPy to construct/apply a filter </font>\n",
    "### Before begining, the problem, go back up to your first cell and import signal from scipy.\n",
    "#### 3a.) Using SciPy.signal's butterworth filter function (scipy.signal.butter: documentation [here](https://docs.scipy.org/doc/scipy/reference/generated/scipy.signal.butter.html)), create a <font color = red>2nd order</font>,<font color = red> low-pass</font>,<font color = red> analog</font> filter with a cutoff frequency of <font color = red>10 rad/s</font>."
   ]
  },
  {
   "cell_type": "code",
   "execution_count": 6,
   "metadata": {},
   "outputs": [
    {
     "name": "stdout",
     "output_type": "stream",
     "text": [
      "[100.]\n",
      "[  1.          14.14213562 100.        ]\n"
     ]
    }
   ],
   "source": [
    "#hint: signal.butter returns TWO outputs - you'll want to set it equal to two\n",
    "#comma-separated variables. This is demonstrated clearly in the documentation!\n",
    "\n",
    "import scipy as scipy\n",
    "from scipy import signal\n",
    "num,denom = scipy.signal.butter(N=2,Wn=10,btype='lowpass',analog=True,output='ba')\n",
    "print(num)\n",
    "print(denom)"
   ]
  },
  {
   "cell_type": "markdown",
   "metadata": {},
   "source": [
    "#### 3b.) Using SciPy.signal's freq function (documentation [here](https://docs.scipy.org/doc/scipy-0.16.0/reference/generated/scipy.signal.freqs.html)), to compute the frequency response of the filter that you generated in 3a."
   ]
  },
  {
   "cell_type": "code",
   "execution_count": 13,
   "metadata": {},
   "outputs": [
    {
     "name": "stdout",
     "output_type": "stream",
     "text": [
      "[  1.           1.0234114    1.0473709    1.07189132   1.0969858\n",
      "   1.12266777   1.148951     1.17584955   1.20337784   1.2315506\n",
      "   1.26038293   1.28989026   1.3200884    1.35099352   1.38262217\n",
      "   1.4149913    1.44811823   1.48202071   1.51671689   1.55222536\n",
      "   1.58856513   1.62575567   1.66381689   1.70276917   1.74263339\n",
      "   1.78343088   1.82518349   1.8679136    1.91164408   1.95639834\n",
      "   2.00220037   2.04907469   2.0970464    2.1461412    2.19638537\n",
      "   2.24780583   2.30043012   2.35428641   2.40940356   2.46581108\n",
      "   2.52353917   2.58261876   2.64308149   2.70495973   2.76828663\n",
      "   2.8330961    2.89942285   2.96730241   3.03677112   3.10786619\n",
      "   3.18062569   3.2550886    3.33129479   3.40928507   3.48910121\n",
      "   3.57078596   3.65438307   3.7399373    3.82749448   3.91710149\n",
      "   4.00880633   4.10265811   4.19870708   4.2970047    4.39760361\n",
      "   4.50055768   4.60592204   4.71375313   4.8241087    4.93704785\n",
      "   5.05263107   5.17092024   5.29197874   5.41587138   5.54266452\n",
      "   5.67242607   5.80522552   5.94113398   6.08022426   6.22257084\n",
      "   6.36824994   6.5173396    6.66991966   6.82607183   6.98587975\n",
      "   7.14942899   7.31680714   7.48810386   7.66341087   7.84282206\n",
      "   8.02643352   8.21434358   8.40665289   8.60346442   8.80488358\n",
      "   9.01101825   9.22197882   9.43787828   9.65883224   9.88495905\n",
      "  10.1163798   10.35321843  10.59560179  10.84365969  11.09752496\n",
      "  11.35733358  11.62322469  11.89534067  12.17382728  12.45883364\n",
      "  12.75051241  13.04901978  13.35451563  13.66716356  13.98713103\n",
      "  14.31458938  14.64971398  14.99268433  15.34368409  15.70290125\n",
      "  16.07052818  16.44676178  16.83180353  17.22585965  17.62914118\n",
      "  18.04186409  18.46424943  18.8965234   19.3389175   19.79166868\n",
      "  20.25501939  20.7292178   21.21451785  21.71117946  22.21946861\n",
      "  22.73965752  23.27202479  23.81685552  24.3744415   24.94508135\n",
      "  25.52908068  26.12675226  26.73841616  27.36439997  28.00503894\n",
      "  28.66067617  29.33166278  30.01835814  30.72112999  31.44035472\n",
      "  32.1764175   32.92971255  33.70064329  34.4896226   35.29707303\n",
      "  36.123427    36.96912707  37.83462617  38.72038782  39.62688639\n",
      "  40.55460736  41.50404758  42.47571553  43.47013158  44.48782831\n",
      "  45.52935075  46.59525669  47.68611698  48.80251584  49.94505116\n",
      "  51.11433483  52.31099308  53.53566677  54.7890118   56.07169938\n",
      "  57.38441648  58.72786613  60.10276782  61.50985789  62.9498899\n",
      "  64.42363509  65.93188271  67.47544053  69.0551352   70.67181274\n",
      "  72.32633896  74.01959997  75.75250259  77.52597489  79.34096666\n",
      "  81.19844993  83.09941949  85.04489342  87.03591361  89.07354639\n",
      "  91.158883    93.29304026  95.47716114  97.71241535 100.        ]\n"
     ]
    }
   ],
   "source": [
    "#Similarly, the documentation givesa very thorough example!\n",
    "w,h = scipy.signal.freqs(num,denom)\n",
    "print(w)"
   ]
  },
  {
   "cell_type": "markdown",
   "metadata": {},
   "source": [
    "#### 3c.) Passing the input <code>(w, 20 * np.log10(abs(h)))</code> into plt.plot (and setting the x-axis to logscale) or plt.semilogx, plot your filter in log-scale. Title and label axes appropriately. Use matplotlib's \"grid\" method to include a grid background from <font color = red> both </font> the x and y axes."
   ]
  },
  {
   "cell_type": "code",
   "execution_count": 16,
   "metadata": {},
   "outputs": [
    {
     "data": {
      "image/png": "[encoded data removed]",
      "text/plain": [
       "<Figure size 432x288 with 1 Axes>"
      ]
     },
     "metadata": {
      "needs_background": "light"
     },
     "output_type": "display_data"
    }
   ],
   "source": [
    "import matplotlib.pyplot as plt\n",
    "plt.plot(w,20*np.log10(abs(h)))\n",
    "plt.xscale('log')\n",
    "plt.xlabel('angular frequency')\n",
    "plt.ylabel('frequency response')\n",
    "plt.title('filter')\n",
    "plt.grid()"
   ]
  },
  {
   "cell_type": "markdown",
   "metadata": {},
   "source": [
    "#### 3d.) Once again, use signal.butter() to create a filter. This time, create a <font color=red>second order, low-pass </font> <font color=orange> digital filter</font><font color=red> with a frequency cutoff of 10Hz</font>  filter. In this case, the frequency cutoff must be __normalized__ . We can do this by dividing our desired cutoff frequency in __Hz__ by half the sampling frequency! As each timestep in \"t\" = 0.001, our sampling frequency is 1000.\n",
    "<br> \n",
    "#### To make this code readable to future users, assign the sampling frequency to a variable \"fs\" and comment your code well."
   ]
  },
  {
   "cell_type": "code",
   "execution_count": 18,
   "metadata": {},
   "outputs": [],
   "source": [
    "fs = 1000 # sampling frequency\n",
    "v=10/(fs/2) # Wn argument\n",
    "num2,denom2 = scipy.signal.butter(N=2,Wn=v,btype='lowpass',analog=False,output='ba')"
   ]
  },
  {
   "cell_type": "markdown",
   "metadata": {},
   "source": [
    "#### 3e.) Finally, by passing the two outputs of your digital filter above and the signal you want filtered into signal.filtfilt(), create a variable called \"filtered_signal\" that is equal to the noisy sin wave with your digital filter applied to it! \n",
    "<br><br>\n",
    "#### Using 4x1 subplots, plot your (1) initial sin wave in blue, (2) your noisy sin wave in orange, (3) your filtered noisy sin wave in green, and (4) all three overlaid."
   ]
  },
  {
   "cell_type": "code",
   "execution_count": null,
   "metadata": {},
   "outputs": [],
   "source": []
  },
  {
   "cell_type": "code",
   "execution_count": null,
   "metadata": {},
   "outputs": [],
   "source": []
  },
  {
   "cell_type": "code",
   "execution_count": null,
   "metadata": {},
   "outputs": [],
   "source": []
  },
  {
   "cell_type": "code",
   "execution_count": null,
   "metadata": {},
   "outputs": [],
   "source": []
  }
 ],
 "metadata": {
  "kernelspec": {
   "display_name": "Python 3",
   "language": "python",
   "name": "python3"
  },
  "language_info": {
   "codemirror_mode": {
    "name": "ipython",
    "version": 3
   },
   "file_extension": ".py",
   "mimetype": "text/x-python",
   "name": "python",
   "nbconvert_exporter": "python",
   "pygments_lexer": "ipython3",
   "version": "3.7.6"
  }
 },
 "nbformat": 4,
 "nbformat_minor": 4
}
