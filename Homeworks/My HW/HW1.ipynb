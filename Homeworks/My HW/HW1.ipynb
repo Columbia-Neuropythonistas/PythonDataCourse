{
 "cells": [
  {
   "cell_type": "code",
   "execution_count": 32,
   "metadata": {},
   "outputs": [
    {
     "name": "stdout",
     "output_type": "stream",
     "text": [
      "[1, 3, 5, 7, 9, 11, 13, 15, 2, 4, 6, 8, 10, 12, 14, 16]\n"
     ]
    }
   ],
   "source": [
    "a = [1,3,5,7,9,11,13,15]\n",
    "b = [2,4,6,8,10,12,14,16]\n",
    "c = a + b\n",
    "print(c)"
   ]
  },
  {
   "cell_type": "code",
   "execution_count": 2,
   "metadata": {},
   "outputs": [
    {
     "name": "stdout",
     "output_type": "stream",
     "text": [
      "[1, 2, 3, 4, 5, 6, 7, 8, 9, 10, 11, 12, 13, 14, 15, 16]\n"
     ]
    }
   ],
   "source": [
    "d = [None]*len(c)\n",
    "\n",
    "d[::2] = a\n",
    "d[1::2] = b\n",
    "\n",
    "print(d)"
   ]
  },
  {
   "cell_type": "code",
   "execution_count": 3,
   "metadata": {},
   "outputs": [
    {
     "name": "stdout",
     "output_type": "stream",
     "text": [
      "[1, 2, 3, 4, 5, 6, 7, 8, 9, 10, 11, 12, 13, 14, 15, 16]\n"
     ]
    }
   ],
   "source": [
    "e = []\n",
    "\n",
    "for i in range(len(a)):\n",
    "    e.append(a[i])\n",
    "    e.append(b[i])\n",
    "    \n",
    "print(e)"
   ]
  },
  {
   "cell_type": "code",
   "execution_count": 4,
   "metadata": {},
   "outputs": [
    {
     "name": "stdout",
     "output_type": "stream",
     "text": [
      "[1, 2, 3, 4, 5, 6, 7, 8, 9, 10, 11, 12, 13, 14, 15, 16]\n"
     ]
    }
   ],
   "source": [
    "e = [item for i in zip(a,b + [0]) for item in i] \n",
    "\n",
    "print(f)"
   ]
  },
  {
   "cell_type": "code",
   "execution_count": 9,
   "metadata": {},
   "outputs": [
    {
     "name": "stdout",
     "output_type": "stream",
     "text": [
      "[1, 2, 3, 4, 5, 6, 7, 8, 9, 10, 11, 12, 13, 14, 15, 16]\n"
     ]
    }
   ],
   "source": [
    "e = []\n",
    "\n",
    "for i in zip(a,b + [0]):\n",
    "    for item in i:\n",
    "        f.append(item)\n",
    "        \n",
    "print(f)"
   ]
  },
  {
   "cell_type": "code",
   "execution_count": 25,
   "metadata": {},
   "outputs": [
    {
     "name": "stdout",
     "output_type": "stream",
     "text": [
      "[1, 2, 3, 4, 5, 6, 7, 8, 9, 10, 11, 12, 13, 14, 15, 16]\n"
     ]
    }
   ],
   "source": [
    "f = []\n",
    "run = 0\n",
    "\n",
    "while run < len(a):\n",
    "    f.append(a[run])\n",
    "    f.append(b[run])\n",
    "    run = run+1\n",
    "\n",
    "print(f)"
   ]
  },
  {
   "cell_type": "code",
   "execution_count": 35,
   "metadata": {},
   "outputs": [
    {
     "name": "stdout",
     "output_type": "stream",
     "text": [
      "[1, 3, 5, 7, 9, 11, 13, 15, 2, 4, 6, 8, 10, 12, 14, 16]\n",
      "[1, 2, 3, 4, 5, 6, 7, 8, 9, 10, 11, 12, 13, 14, 15, 16]\n"
     ]
    }
   ],
   "source": [
    "c = a + b\n",
    "\n",
    "print(c)\n",
    "\n",
    "c.sort()\n",
    "\n",
    "print(c)"
   ]
  },
  {
   "cell_type": "code",
   "execution_count": 4,
   "metadata": {},
   "outputs": [
    {
     "name": "stdout",
     "output_type": "stream",
     "text": [
      "{'clare': '1489', 'sam': '52693', 'leslie': '41754', 'bob': '219', 'rosie': '7717'}\n"
     ]
    }
   ],
   "source": [
    "my_stats = {\n",
    "    'clare': '1489',\n",
    "    'sam': '52693',\n",
    "    'leslie': '41754',\n",
    "    'bob': '219',\n",
    "    'rosie':'7717'\n",
    "}\n",
    "\n",
    "print(my_stats)"
   ]
  },
  {
   "cell_type": "code",
   "execution_count": 80,
   "metadata": {},
   "outputs": [],
   "source": [
    "def passwordEval(username, password, dict):\n",
    "    \n",
    "    #assert (str.islower(username) and str.islower(password)), 'Usernames/password needs to be all lowercase'\n",
    "    \n",
    "    username = username.lower()\n",
    "    password = password.lower()\n",
    "    \n",
    "    print('username='+username)\n",
    "    print('password='+password)\n",
    "\n",
    "# If the username is one of the key values in the dict and the associated value is the same as the password\n",
    "\n",
    "    if username in dict.keys() and password == dict[username]:\n",
    "            # accept\n",
    "        print('Username and password accepted!')\n",
    "\n",
    "\n",
    "    # if any conditions are not met, then reject\n",
    "\n",
    "    else:\n",
    "        print('Username/password not found!')\n"
   ]
  },
  {
   "cell_type": "code",
   "execution_count": 2,
   "metadata": {},
   "outputs": [],
   "source": [
    "# restart kernel\n",
    "\n",
    "my_stats = {\n",
    "    'clare': '1489',\n",
    "    'sam': '52693',\n",
    "    'leslie': '41754',\n",
    "    'bob': '219',\n",
    "    'rosie':'7717'\n",
    "}\n",
    "\n",
    "print(my_stats)\n",
    "\n",
    "import week1 as w1\n",
    "\n",
    "test = w1.passwordEval('Clare','1489',my_stats)"
   ]
  },
  {
   "cell_type": "code",
   "execution_count": 5,
   "metadata": {},
   "outputs": [
    {
     "name": "stdout",
     "output_type": "stream",
     "text": [
      "username=clare\n",
      "password=1489\n",
      "Username and password accepted!\n"
     ]
    }
   ],
   "source": []
  },
  {
   "cell_type": "code",
   "execution_count": 51,
   "metadata": {},
   "outputs": [
    {
     "data": {
      "text/plain": [
       "dict_values(['1489', '52693', '41754', '219', '7717'])"
      ]
     },
     "execution_count": 51,
     "metadata": {},
     "output_type": "execute_result"
    }
   ],
   "source": []
  },
  {
   "cell_type": "code",
   "execution_count": null,
   "metadata": {},
   "outputs": [],
   "source": []
  }
 ],
 "metadata": {
  "kernelspec": {
   "display_name": "Python 3",
   "language": "python",
   "name": "python3"
  },
  "language_info": {
   "codemirror_mode": {
    "name": "ipython",
    "version": 3
   },
   "file_extension": ".py",
   "mimetype": "text/x-python",
   "name": "python",
   "nbconvert_exporter": "python",
   "pygments_lexer": "ipython3",
   "version": "3.7.4"
  }
 },
 "nbformat": 4,
 "nbformat_minor": 4
}
